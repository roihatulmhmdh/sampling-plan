{
 "cells": [
  {
   "cell_type": "markdown",
   "metadata": {
    "id": "1CSmCFgl4DDG"
   },
   "source": [
    "# Project: Sampling\n"
   ]
  },
  {
   "cell_type": "markdown",
   "metadata": {},
   "source": [
    "**Bogor, 5th July 2023**"
   ]
  },
  {
   "cell_type": "markdown",
   "metadata": {},
   "source": [
    "---"
   ]
  },
  {
   "cell_type": "code",
   "execution_count": 1,
   "metadata": {
    "id": "xLSC_M3mx71Q"
   },
   "outputs": [
    {
     "name": "stderr",
     "output_type": "stream",
     "text": [
      "c:\\users\\aiforesee\\appdata\\local\\programs\\python\\python38\\lib\\site-packages\\numpy\\_distributor_init.py:30: UserWarning: loaded more than 1 DLL from .libs:\n",
      "c:\\users\\aiforesee\\appdata\\local\\programs\\python\\python38\\lib\\site-packages\\numpy\\.libs\\libopenblas.jpijnswnnan3ce6lli5fwsphut2vxmth.gfortran-win_amd64.dll\n",
      "c:\\users\\aiforesee\\appdata\\local\\programs\\python\\python38\\lib\\site-packages\\numpy\\.libs\\libopenblas.PYQHXLVVQ7VESDPUVUADXEVJOBGHJPAY.gfortran-win_amd64.dll\n",
      "  warnings.warn(\"loaded more than 1 DLL from .libs:\"\n"
     ]
    }
   ],
   "source": [
    "# Load library\n",
    "import numpy as np\n",
    "import pandas as pd\n",
    "from scipy import stats\n",
    "\n",
    "import matplotlib.pyplot as plt"
   ]
  },
  {
   "cell_type": "code",
   "execution_count": 2,
   "metadata": {
    "id": "dsO6B-Xr4CNM"
   },
   "outputs": [],
   "source": [
    "# Set semua variable\n",
    "N = 6"
   ]
  },
  {
   "cell_type": "code",
   "execution_count": 3,
   "metadata": {
    "id": "9cEkDFlM5J_7"
   },
   "outputs": [],
   "source": [
    "# masukkan data\n",
    "# data diperoleh dari BPS\n",
    "\n",
    "data = np.array([7546, \n",
    "                 4533, \n",
    "                 9782, \n",
    "                 6738, \n",
    "                 8855, \n",
    "                 8216\n",
    "                ])\n",
    "\n",
    "M_list = np.array([30,  \n",
    "                   20, \n",
    "                   25,  \n",
    "                   25,  \n",
    "                   32, \n",
    "                   26\n",
    "                  ])"
   ]
  },
  {
   "cell_type": "markdown",
   "metadata": {},
   "source": [
    "---"
   ]
  },
  {
   "cell_type": "markdown",
   "metadata": {},
   "source": [
    "# Jumlah Sample PSU"
   ]
  },
  {
   "cell_type": "markdown",
   "metadata": {},
   "source": [
    "**Berapa banyak cluster yang dipilih jika target bound of error estimation total di set kurang dari $5000$**"
   ]
  },
  {
   "cell_type": "markdown",
   "metadata": {},
   "source": [
    "Formula menghitung sample size:\n",
    "\n",
    "$$\n",
    "n = \\cfrac{N \\sigma_{c}^{2}}{N.D + \\sigma_{c}^{2}}\n",
    "$$\n",
    "\n",
    "dengan\n",
    "$$\n",
    "D = \\cfrac{B^{2}}{4 N^{2}}\n",
    "$$\n",
    "\n",
    "$$\n",
    "\\sigma_{c}^{2} = \\cfrac{\\sum_{i=1}^{N} (y_{i}-\\hat{\\mu}M_{i})^{2}}{N-1}\n",
    "$$\n",
    "\n",
    "$$\n",
    "\\hat{\\mu}_{r} = r = \\cfrac{\\sum_{i=1}^{n} y_{i}}{\\sum_{i=1}^{n} M_{i}}\n",
    "$$"
   ]
  },
  {
   "cell_type": "code",
   "execution_count": 4,
   "metadata": {},
   "outputs": [
    {
     "name": "stdout",
     "output_type": "stream",
     "text": [
      "Jumlah sample PSU : 4\n"
     ]
    }
   ],
   "source": [
    "# hitung D\n",
    "B = 5000\n",
    "D = (B**2)/(4*(N**2))\n",
    "\n",
    "# hitung rata-rata\n",
    "mu_hat = np.sum(data) / np.sum(M_list)\n",
    "\n",
    "# hitung sc_square\n",
    "sc_square = 0\n",
    "for i in range(N):\n",
    "    sc_square += (data[i] - mu_hat*M_list[i])**2\n",
    "sc_square *= (1/(N-1))\n",
    "\n",
    "# hitung n\n",
    "n = (N*sc_square) / ((N*D) + sc_square)\n",
    "print(f\"Jumlah sample PSU : {n:.0f}\")"
   ]
  },
  {
   "cell_type": "markdown",
   "metadata": {},
   "source": [
    "Sehingga, diperlukan psu sebanyak 4 cluster/kecamatan untuk mendapat error estimation total kurang dari 5000."
   ]
  },
  {
   "cell_type": "markdown",
   "metadata": {},
   "source": [
    "---"
   ]
  },
  {
   "cell_type": "markdown",
   "metadata": {},
   "source": [
    "# Simulasi Cluster Sampling with Unequal Size  "
   ]
  },
  {
   "cell_type": "markdown",
   "metadata": {},
   "source": [
    "**Population Total**\n",
    "\n",
    "- Estimate population total\n",
    "\n",
    "$$\n",
    "\\hat{\\tau}_{r} = r M\n",
    "$$\n",
    "\n",
    "- dengan\n",
    "\n",
    "$$\n",
    "r = \\cfrac{\\sum_{i=1}^{n} y_{i}}{\\sum_{i=1}^{n} M_{i}}\n",
    "$$\n",
    "\n",
    "- Approximate formula of variance\n",
    "\n",
    "$$\n",
    "\\widehat{\\text{var}}(\\hat{\\tau}_{r}) = \\cfrac{N(N-n)}{n(n-1)} \\sum_{i=1}^{n} (y_{i} - rM_{i})^{2}\n",
    "$$"
   ]
  },
  {
   "cell_type": "code",
   "execution_count": 5,
   "metadata": {},
   "outputs": [
    {
     "data": {
      "text/plain": [
       "[1, 3, 4, 5]"
      ]
     },
     "execution_count": 5,
     "metadata": {},
     "output_type": "execute_result"
    }
   ],
   "source": [
    "# import random \n",
    "from random import sample\n",
    "\n",
    "# memilih 4 cluster dengan SRS\n",
    "list_ = [0, 1, 2, 3, 4, 5] \n",
    "index_ = sample(list_, 4)\n",
    "index_.sort()\n",
    "\n",
    "index_"
   ]
  },
  {
   "cell_type": "code",
   "execution_count": 6,
   "metadata": {},
   "outputs": [
    {
     "data": {
      "text/plain": [
       "([4533, 6738, 8855, 8216], [20, 25, 32, 26])"
      ]
     },
     "execution_count": 6,
     "metadata": {},
     "output_type": "execute_result"
    }
   ],
   "source": [
    "# Set semua variable\n",
    "N = 6\n",
    "n = 4\n",
    "M = np.sum(M_list)\n",
    "\n",
    "# ambil data jumlah murid untuk 4 cluster terpilih\n",
    "datas = [data[i] for i in range(N) if i in index_]\n",
    "\n",
    "# ambil data jumlah ssu untuk 4 cluster terpilih \n",
    "M_lists = [M_list[i] for i in range(N) if i in index_]\n",
    "\n",
    "datas, M_lists"
   ]
  },
  {
   "cell_type": "markdown",
   "metadata": {},
   "source": [
    "- Estimasi murid $\\hat{\\mu}_{r}$, dengan formula sebagai berikut\n",
    "\n",
    "$$\n",
    "\\hat{\\mu}_{r} = r = \\cfrac{\\sum_{i=1}^{n} y_{i}}{\\sum_{i=1}^{n} M_{i}}\n",
    "$$\n",
    "\n",
    "- kemudian, estimate population total\n",
    "\n",
    "$$\n",
    "\\hat{\\tau}_{r} = r M\n",
    "$$"
   ]
  },
  {
   "cell_type": "code",
   "execution_count": 7,
   "metadata": {},
   "outputs": [
    {
     "name": "stdout",
     "output_type": "stream",
     "text": [
      "Estimasi rata-rata murid\t: 275 murid\n",
      "Estimasi Total murid\t\t: 43476 murid\n"
     ]
    }
   ],
   "source": [
    "# hitung rata-rata\n",
    "mu_hat = np.sum(datas) / np.sum(M_lists)\n",
    "print(f\"Estimasi rata-rata murid\\t: {mu_hat:.0f} murid\")\n",
    "\n",
    "# hitung tau\n",
    "tau_hat = mu_hat*M\n",
    "print(f\"Estimasi Total murid\\t\\t: {tau_hat:.0f} murid\")"
   ]
  },
  {
   "cell_type": "markdown",
   "metadata": {},
   "source": [
    "- variance of total population estimator, $\\widehat{\\text{var}}(\\hat{\\tau}_{r})$, dengan formula sebagai berikut:\n",
    "\n",
    "$$\n",
    "\\widehat{\\text{var}}(\\hat{\\tau}_{r}) = N(N-n) \\cfrac{s_{c}^{2}}{n}\n",
    "$$\n",
    "\n",
    "- sampled cluster variance ($s_{c}^{2}$) \n",
    "\n",
    "$$\n",
    "s_{c}^{2} = \\cfrac{1}{n-1} \\sum_{i=1}^{n} (y_{i} - rM_{i})^{2}\n",
    "$$"
   ]
  },
  {
   "cell_type": "code",
   "execution_count": 8,
   "metadata": {},
   "outputs": [
    {
     "name": "stdout",
     "output_type": "stream",
     "text": [
      "The sampled cluster variance\t: (835)^2\n",
      "The variance of total pop. est.\t: (1446)^2\n"
     ]
    }
   ],
   "source": [
    "# hitung sampled cluster variance\n",
    "sc_square = 0\n",
    "for i in range(n):\n",
    "    sc_square += (datas[i] - mu_hat*M_lists[i])**2\n",
    "sc_square *= (1/(n-1))\n",
    "print(f\"The sampled cluster variance\\t: ({np.sqrt(sc_square):.0f})^2\")\n",
    "\n",
    "# hitung variance of total population estimator\n",
    "var_y_total_est = ((N*(N-n))/n)*sc_square\n",
    "var_y_total_est\n",
    "print(f\"The variance of total pop. est.\\t: ({np.sqrt(var_y_total_est):.0f})^2\")"
   ]
  },
  {
   "cell_type": "markdown",
   "metadata": {},
   "source": [
    "- 95% CI dapat dihitung dengan formula sebagai beirkut\n",
    "\n",
    "$$\n",
    "95 \\% \\text{CI} = \\hat{\\tau} \\pm B\n",
    "$$\n",
    "\n",
    "- dengan Margin of error ($B$)\n",
    "$$\n",
    "B = z_{\\alpha/2.} \\sqrt{\\widehat{\\text{var}}(\\hat{\\tau})}\n",
    "$$"
   ]
  },
  {
   "cell_type": "code",
   "execution_count": 9,
   "metadata": {},
   "outputs": [
    {
     "name": "stdout",
     "output_type": "stream",
     "text": [
      "z_stat              : 1.96\n",
      "margin of error (B) : 2834 murid\n"
     ]
    }
   ],
   "source": [
    "# menghitung z_stat pada 95% CI\n",
    "alpha = 0.05\n",
    "z_stat = stats.norm.ppf(1 - alpha/2.)\n",
    "print(f\"z_stat              : {z_stat:.2f}\")\n",
    "\n",
    "# menghitung margin of error (B)\n",
    "B = z_stat * np.sqrt(var_y_total_est)\n",
    "print(f\"margin of error (B) : {B:.0f} murid\")"
   ]
  },
  {
   "cell_type": "code",
   "execution_count": 10,
   "metadata": {},
   "outputs": [
    {
     "name": "stdout",
     "output_type": "stream",
     "text": [
      "Dengan kepercayaan 95%, kita yakin bahwa total murid di Kota Bogor berada diantara 40642 and 46310 murid\n"
     ]
    }
   ],
   "source": [
    "# menghitung CI\n",
    "lb = tau_hat - B\n",
    "ub = tau_hat + B\n",
    "\n",
    "print(f\"Dengan kepercayaan 95%, kita yakin bahwa total murid di Kota Bogor berada diantara {lb:.0f} and {ub:.0f} murid\")"
   ]
  },
  {
   "cell_type": "code",
   "execution_count": 11,
   "metadata": {},
   "outputs": [
    {
     "name": "stdout",
     "output_type": "stream",
     "text": [
      "Total murid sebenernya yaitu 45670 murid\n"
     ]
    }
   ],
   "source": [
    "# menghitung total murid sebenernya\n",
    "\n",
    "total = np.sum(data)\n",
    "print(f\"Total murid sebenernya yaitu {total:.0f} murid\")"
   ]
  },
  {
   "cell_type": "code",
   "execution_count": null,
   "metadata": {},
   "outputs": [],
   "source": []
  }
 ],
 "metadata": {
  "colab": {
   "provenance": []
  },
  "kernelspec": {
   "display_name": "Python 3",
   "language": "python",
   "name": "python3"
  },
  "language_info": {
   "codemirror_mode": {
    "name": "ipython",
    "version": 3
   },
   "file_extension": ".py",
   "mimetype": "text/x-python",
   "name": "python",
   "nbconvert_exporter": "python",
   "pygments_lexer": "ipython3",
   "version": "3.8.5"
  },
  "toc": {
   "base_numbering": 1,
   "nav_menu": {},
   "number_sections": true,
   "sideBar": true,
   "skip_h1_title": false,
   "title_cell": "Table of Contents",
   "title_sidebar": "Contents",
   "toc_cell": false,
   "toc_position": {},
   "toc_section_display": true,
   "toc_window_display": false
  }
 },
 "nbformat": 4,
 "nbformat_minor": 1
}
